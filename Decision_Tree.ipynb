{
 "cells": [
  {
   "cell_type": "markdown",
   "id": "c773c6b7-395d-4b74-8d49-e5ea499ee15e",
   "metadata": {},
   "source": [
    "**Theoritical Question**"
   ]
  },
  {
   "cell_type": "markdown",
   "id": "b4f79788-75ca-462b-ad94-b34d9a4b5575",
   "metadata": {},
   "source": [
    "1.What is a Decision Tree, and how does it work?"
   ]
  },
  {
   "cell_type": "markdown",
   "id": "f184e8e5-3ed9-44f1-bdf1-55974673b689",
   "metadata": {},
   "source": [
    ">A Decision Tree is a type of supervised machine learning algorithm used for both classification and regression tasks. It works by splitting data into branches based on feature values, forming a tree-like structure where each internal node represents a decision on a feature, each branch represents an outcome of that decision, and each leaf node represents a final prediction or output.\n",
    ">How It\"s Work:\n",
    " How a Decision Tree Works:\n",
    "Start at the Root Node:\n",
    "\n",
    "The entire dataset is at the root.\n",
    "\n",
    "The algorithm chooses the best feature and threshold to split the data based on a splitting criterion (like Gini impurity or Information Gain for classification; variance reduction for regression).\n",
    "\n",
    "Split the Data:\n",
    "\n",
    "Based on the chosen feature, the data is divided into subsets.\n",
    "\n",
    "This forms child nodes (branches from the parent).\n",
    "\n",
    "Repeat Recursively:\n",
    "\n",
    "The splitting process is repeated for each child node using  only the subset of data assigned to it.\n",
    "\n",
    "This continues until a stopping condition is met (e.g., max depth reached, minimum samples at a node, or pure leaf nodes).\n",
    "\n",
    "Prediction:\n",
    "\n",
    "To predict a new instance, you follow the path from the root to a leaf node based on the feature values of the instance.\n",
    "\n",
    "The label (for classification) or value (for regression) at the leaf is the prediction."
   ]
  },
  {
   "cell_type": "markdown",
   "id": "bbdf6157-3268-4eed-9785-dae77b35e10b",
   "metadata": {},
   "source": [
    "#2.What are impurity measures in Decision Tree?"
   ]
  },
  {
   "cell_type": "markdown",
   "id": "e21cf90e-ec98-4f74-bcd6-524cfef49f73",
   "metadata": {},
   "source": [
    ">In Decision Trees, impurity measures are metrics used to evaluate how \"pure\" or \"homogeneous\" a node is in terms of the target variable (usually class labels). These measures help the tree decide where to split the data in order to build an effective model.\n",
    "Goal of Impurity Measures:\n",
    "The objective is to split the data in a way that increases the purity of the child nodes — meaning that each node contains data points that mostly belong to the same class.\n",
    "\n"
   ]
  },
  {
   "cell_type": "markdown",
   "id": "27346746-e549-49d2-8567-2b7854af93d3",
   "metadata": {},
   "source": [
    "3.What is the mathematical formula for Gini Impurity?"
   ]
  },
  {
   "cell_type": "markdown",
   "id": "0dea4904-fe38-4b6c-8801-8746c4bfda00",
   "metadata": {},
   "source": [
    ">The Gini Impurity is a measure of how often a randomly chosen element from a set would be incorrectly labeled if it were randomly labeled according to the distribution of labels in the set. It is used primarily in classification tasks in decision trees (like CART).\n",
    ">Formula for Gini Impurity\n",
    "𝐺 = 1 − ∑ 𝑖 = 1 𝐶 𝑝 𝑖 2 G=1− i=1 ∑ C​p i 2​\n",
    "\n",
    ">Where:\n",
    "\n",
    ">𝑝 𝑖 p i​is the probability (or proportion) of class 𝑖 i in the dataset.\n",
    "\n",
    ">𝐶 C is the total number of classes.\n",
    "\n"
   ]
  },
  {
   "cell_type": "markdown",
   "id": "3c8ffea6-35d2-455f-b438-734ecfdd8060",
   "metadata": {},
   "source": [
    "#4.What is the mathematical formula for Entropy?\n"
   ]
  },
  {
   "cell_type": "markdown",
   "id": "e41705d5-2943-4597-b882-9201120613e0",
   "metadata": {},
   "source": [
    ">In Information Theory (Shannon Entropy): For a discrete random variable 𝑋 X with possible outcomes 𝑥 1 , 𝑥 2 , … , 𝑥 𝑛 x 1​,x 2​,…,x n​and corresponding probabilities 𝑝 1 , 𝑝 2 , … , 𝑝 𝑛 p 1​,p 2​,…,p n​:\n",
    "𝐻 ( 𝑋 ) = − ∑ 𝑖 = 1 𝑛 𝑝 𝑖 log ⁡ 𝑏 𝑝 𝑖 H(X)=− i=1 ∑ n​p i​log b​p i​\n",
    "\n",
    ">𝐻 ( 𝑋 ) H(X) is the entropy (in bits if base 𝑏 = 2 b=2, nats if 𝑏 = 𝑒 b=e, or decimal digits if 𝑏 = 10 b=10).\n",
    "\n",
    ">𝑝 𝑖 p i​is the probability of outcome 𝑥 𝑖 x i​.\n",
    "\n",
    ">The entropy measures the average uncertainty or information content.\n",
    "\n"
   ]
  },
  {
   "cell_type": "markdown",
   "id": "fd0de937-9b86-4532-bf1c-def8d787f3ca",
   "metadata": {},
   "source": [
    "#5.What is Information Gain, and how is it used in Decision Trees?"
   ]
  },
  {
   "cell_type": "markdown",
   "id": "a2a098e5-9673-43ee-8437-19a32a66a325",
   "metadata": {},
   "source": [
    ">Information Gain is a key concept in machine learning, particularly in Decision Trees (like ID3, C4.5, and others). It is used to measure how well a feature (or attribute) separates the training examples according to their target classification.\n",
    "Information Gain (IG) is based on the concept of entropy from information theory.\n",
    ">Entropy measures the impurity or uncertainty in a dataset.\n",
    "\n",
    ">Information Gain measures the reduction in entropy after a dataset is split on an attribute.\n",
    "\n",
    ">Formula for Entropy:\n",
    "\n",
    ">𝐸 𝑛 𝑡 𝑟 𝑜 𝑝 𝑦 ( 𝑆 ) = − ∑ 𝑖 = 1 𝑐 𝑝 𝑖 log ⁡ 2 𝑝 𝑖 Entropy(S)=− i=1 ∑ c​p i​log 2​p i​\n",
    "\n"
   ]
  },
  {
   "cell_type": "markdown",
   "id": "501da46f-1d3c-434e-a8bf-f1afddbe6f08",
   "metadata": {},
   "source": [
    "#6.What is the difference between Gini Impurity and Entropy?"
   ]
  },
  {
   "cell_type": "markdown",
   "id": "37904b10-27e7-49ea-a711-4a5b758d23af",
   "metadata": {},
   "source": [
    ">Gini Impurity and Entropy are both metrics used to measure the impurity or disorder in a dataset, typically in the context of decision trees (likalgorithms). They help in selecting the best feature to split the data. Here's a clear comparison:\n",
    "\n",
    ">Gini Impurity\n",
    "Measures the probability of incorrectly classifying a randomly chosen element if it was randomly labeled according to the class distribution.\n",
    "Formula:\n",
    "\n",
    ">𝐺 𝑖 𝑛 𝑖 = 1 − ∑ 𝑖 = 1 𝑛 𝑝 𝑖 2 Gini=1− i=1 ∑ n​p i 2​\n",
    "\n"
   ]
  },
  {
   "cell_type": "markdown",
   "id": "4f4f9b6c-f7f5-4a35-b1b3-31a4df505fac",
   "metadata": {},
   "source": [
    "#7.What is the mathematical explanation behind Decision Trees?"
   ]
  },
  {
   "cell_type": "markdown",
   "id": "abe5c7f4-7fc0-4328-bdcf-239a0f2d4e30",
   "metadata": {},
   "source": [
    ">Decision Trees are a type of supervised machine learning algorithm used for classification and regression tasks. They make decisions by splitting the data based on feature values, creating a tree-like model of decisions. Here's a breakdown of the mathematical explanation behind Decision Trees.\n",
    "A decision tree is made up of:\n",
    "\n",
    ">Root node: The starting point, based on the most important feature.\n",
    "\n",
    ">Internal nodes: Represent decisions based on feature values.\n",
    "\n",
    ">Leaf nodes: Represent the final output (class or value).\n",
    "\n",
    ">At each internal node, the algorithm chooses a feature and a threshold to split the data into subsets that are more homogeneous in terms of the target variable.\n",
    "\n"
   ]
  },
  {
   "cell_type": "markdown",
   "id": "49d224c7-9b24-4823-91dd-0d9a372d868e",
   "metadata": {},
   "source": [
    "###8.What is Pre-Pruning in Decision Trees?"
   ]
  },
  {
   "cell_type": "markdown",
   "id": "7796cd0a-fa49-497a-aa47-187df8723df1",
   "metadata": {},
   "source": [
    ">Pre-pruning (also known as early stopping) in decision trees is a technique used to prevent the tree from growing too large and overfitting the data. It involves halting the tree construction process early—before it perfectly classifies the training data—based on certain conditions or thresholds.\n",
    "\n",
    "Key Ideas Behind Pre-Pruning\n",
    "Instead of allowing the decision tree to grow until each leaf contains only samples from one class (which can lead to overfitting), pre-pruning stops the splitting process early if the next split doesn't meet a specific criterion.\n"
   ]
  },
  {
   "cell_type": "markdown",
   "id": "160f28c0-e798-4862-9b3e-112b2d9263b9",
   "metadata": {},
   "source": [
    "###9.What is Post-Pruning in Decision Trees?\n"
   ]
  },
  {
   "cell_type": "markdown",
   "id": "93a26a58-116a-4c47-a1fe-cc0a68e53fa3",
   "metadata": {},
   "source": [
    ">Post-pruning (also known as error pruning or backward pruning) is a technique used in decision tree learning to reduce overfitting and improve the tree’s ability to generalize to unseen data.\n",
    "\n",
    "🔍 What Is It?\n",
    "In post-pruning, a decision tree is first fully grown — often until each leaf node is pure (i.e., contains data points from only one class) or until some stopping condition is met. Then, the tree is pruned back by removing branches that do not provide significant improvement in performance on a validation set."
   ]
  },
  {
   "cell_type": "markdown",
   "id": "1422ec68-61ce-4fc0-8f66-71088999192a",
   "metadata": {},
   "source": [
    "###10. What is the difference between Pre-Pruning and Post-Pruning?"
   ]
  },
  {
   "cell_type": "markdown",
   "id": "b09f3e1a-b6b8-4c7e-ab48-917b977efe03",
   "metadata": {},
   "source": [
    "The main difference between pre-pruning and post-pruning lies in when the decision tree is pruned during the training process:\n",
    "1.Pre-Pruning (Early Stopping)\n",
    "When it happens: During the tree construction (before the tree is fully grown).\n",
    "\n",
    "How it works: The growth of the tree is stopped early based on certain conditions or thresholds, such as:\n",
    "\n",
    "Maximum depth of the tree\n",
    "\n",
    "Minimum number of samples required to split a node\n",
    "\n",
    "Minimum information gain or impurity reduction\n",
    "\n",
    "Goal: Prevent overfitting by not allowing the tree to become too complex.\n",
    "\n",
    "Pros:\n",
    "\n",
    "Faster training\n",
    "\n",
    "Less complex models\n",
    "\n",
    "Cons:\n",
    "\n",
    "Might stop too early and miss important patterns (underfitting risk)\n",
    "\n",
    "2. Post-Pruning (Prune After Growing)\n",
    "When it happens: After the entire tree is grown.\n",
    "\n",
    "How it works: The tree is fully grown first, and then unnecessary branches are pruned back. This is often based on:\n",
    "\n",
    "Performance on a validation set\n",
    "\n",
    "Cost-complexity trade-off (e.g., reduced error pruning, minimal cost-complexity pruning)\n",
    "\n",
    "Goal: Simplify the tree without significantly sacrificing accuracy.\n",
    "\n",
    "Pros:\n",
    "\n",
    "Usually results in better generalization\n",
    "\n",
    "Can preserve more useful patterns\n",
    "\n",
    "Cons:\n",
    "\n",
    "More computationally expensive\n",
    "\n",
    "Requires extra data (validation set) or cross-v\n",
    "\n"
   ]
  },
  {
   "cell_type": "markdown",
   "id": "4713e5a3-ca21-49e1-8b56-9bc5a6d1d98c",
   "metadata": {},
   "source": [
    "###11.What is a Decision Tree Regressor?"
   ]
  },
  {
   "cell_type": "markdown",
   "id": "f6859a37-1f67-4ad4-af93-d1bd037d970b",
   "metadata": {},
   "source": [
    ">A Decision Tree Regressor is a type of machine learning model used for predicting continuous numerical values. It’s based on the decision tree algorithm, which splits data into subsets based on feature values to make predictions.\n",
    "\n"
   ]
  },
  {
   "cell_type": "markdown",
   "id": "291afb09-dff7-4896-86ba-999352336721",
   "metadata": {},
   "source": [
    "###12.What are the advantages and disadvantages of Decision Trees?\n"
   ]
  },
  {
   "cell_type": "code",
   "execution_count": 1,
   "id": "ad9f6518-a8dd-4e49-aba0-d844ddee5eed",
   "metadata": {},
   "outputs": [
    {
     "ename": "SyntaxError",
     "evalue": "invalid character '✅' (U+2705) (3514493042.py, line 3)",
     "output_type": "error",
     "traceback": [
      "\u001b[1;36m  Cell \u001b[1;32mIn[1], line 3\u001b[1;36m\u001b[0m\n\u001b[1;33m    ✅ Advantages of Decision Trees: Easy to Understand and Interpret:\u001b[0m\n\u001b[1;37m    ^\u001b[0m\n\u001b[1;31mSyntaxError\u001b[0m\u001b[1;31m:\u001b[0m invalid character '✅' (U+2705)\n"
     ]
    }
   ],
   "source": [
    "Decision Trees are popular machine learning models used for classification and regression tasks. They have several advantages and disadvantages, which make them suitable for some tasks but not all.\n",
    "\n",
    "✅ Advantages of Decision Trees: Easy to Understand and Interpret:\n",
    "\n",
    "The tree structure is intuitive and can be visualized easily.\n",
    "\n",
    "Even non-experts can understand decision-making from the tree.\n",
    "\n",
    "No Need for Data Normalization:\n",
    "\n",
    "Decision Trees do not require scaling or normalization of features.\n",
    "\n",
    "Handles Both Numerical and Categorical Data:\n",
    "\n",
    "Works well with different types of variables without the need for encoding (in some implementations).\n",
    "\n",
    "Requires Little Data Preparation:\n",
    "\n",
    "No need for dummy variables or feature scaling.\n",
    "\n",
    "Non-Linear Relationships:\n",
    "\n",
    "Can model complex, non-linear relationships between features.\n",
    "\n",
    "Feature Importance:\n",
    "\n",
    "Provides a clear measure of feature importance, which can be helpful for feature selection.\n",
    "\n",
    "Works Well with Missing Values:\n",
    "\n",
    "Some implementations (e.g., in CART or C4.5) can handle missing data without needing imputation.\n",
    "\n",
    "❌ Disadvantages of Decision Trees: Overfitting:\n",
    "\n",
    "Decision Trees can easily overfit, especially if they are deep (i.e., have many layers).\n",
    "\n",
    "Pruning or setting a maximum depth is often required to mitigate this.\n",
    "\n",
    "Unstable:\n",
    "\n",
    "Small changes in the data can lead to a completely different tree structure.\n",
    "\n",
    "Biased with Imbalanced Data:\n",
    "\n",
    "If some classes dominate, the tree may become biased toward those classes.\n",
    "\n",
    "Greedy Algorithms:\n",
    "\n",
    "The split decisions are made using greedy algorithms (like ID3, CART), which do not always guarantee the optimal tree.\n",
    "\n",
    "Poor Performance on Some Problems:\n",
    "\n",
    "Compared to more complex models like Random Forests or Gradient Boosting Machines, a single decision tree may perform worse.\n",
    "\n",
    "Can Be Computationally Expensive:\n",
    "\n",
    "For large datasets with many features, training can be time-consuming, especially without feature selection.\n",
    "\n"
   ]
  },
  {
   "cell_type": "markdown",
   "id": "1bd261e3-43ed-4887-838c-ea91d62ffe13",
   "metadata": {},
   "source": [
    "###14.How does a Decision Tree handle categorical features?"
   ]
  },
  {
   "cell_type": "markdown",
   "id": "f4235c3b-2548-42aa-92e1-5f0a8e31a1e9",
   "metadata": {},
   "source": [
    "A Decision Tree can handle categorical features directly by splitting on the distinct categories of that feature. Here's how it works:\n",
    "\n",
    "🔹 1. Splitting on Categorical Features\n",
    "For a categorical feature (e.g., \"Color\" with values Red, Blue, Green), a decision tree evaluates splits by testing each possible way to divide the categories. For example:\n",
    "\n",
    "Split: Is Color == Red?\n",
    "\n",
    "Split: Is Color in {Red, Blue}?\n",
    "\n",
    "Split: Is Color in {Green}?\n",
    "\n",
    "It chooses the split that gives the highest information gain (or lowest Gini impurity, depending on the criterion used).\n",
    "\n",
    "🔹 2. Handling Multiple Categories\n",
    "If a categorical variable has many categories, the tree may consider combinations of categories. This can be computationally expensive because the number of possible splits is exponential in the number of categories.\n",
    "\n",
    "To reduce this, some implementations:\n",
    "\n",
    "Use one-vs-rest strategies.\n",
    "\n",
    "Apply heuristics to reduce the number of category combinations considered.\n",
    "\n",
    "🔹 3. Library Behavior\n",
    "Scikit-learn (pre-1.0): Requires you to one-hot encode or label encode categorical features before feeding them into the tree.\n",
    "\n",
    "Scikit-learn 1.0+: Introduced experimental support for native categorical features via HistGradientBoosting* models.\n",
    "\n",
    "Other libraries like XGBoost, LightGBM, and CatBoost handle categorical features natively.\n",
    "\n",
    "🔹 4. Label Encoding Caveat\n",
    "If using label encoding (mapping Red → 0, Blue → 1, Green → 2), the tree might treat it as an ordinal feature, which can be misleading unless the categories have an inherent order. So, it's safer to use one-hot encoding unless the algorithm is known to handle categorical variables properly.\n",
    "\n",
    "✅ Summary\n",
    "Decision Trees can handle categorical features by splitting on the feature's distinct values.\n",
    "\n",
    "Native handling is more efficient and semantically correct.\n",
    "\n",
    "Be cautious with label encoding unless the model treats the variable as categorical, not numerical.\n",
    "\n"
   ]
  },
  {
   "cell_type": "code",
   "execution_count": null,
   "id": "291c8e17-df34-4ca6-b9c2-daa8a66ab3ca",
   "metadata": {},
   "outputs": [],
   "source": [
    "###15.What are some real-world applications of Decision Trees?"
   ]
  },
  {
   "cell_type": "markdown",
   "id": "9cef8057-338a-44f5-841d-80c9fb915f10",
   "metadata": {},
   "source": [
    "Decision Trees are widely used in various real-world applications due to their interpretability, simplicity, and effectiveness in both classification and regression tasks. Here are some notable applications:\n",
    "\n",
    "1. Healthcare\n",
    "Diagnosis of diseases: Decision trees can help classify patient symptoms to diagnose diseases like diabetes, cancer, or heart conditions.\n",
    "\n",
    "Treatment recommendation: Trees can be used to decide treatment plans based on patient data and medical history.\n",
    "\n",
    "2. Finance\n",
    "Credit scoring: Banks use decision trees to determine if a borrower is a good credit risk based on financial history.\n",
    "\n",
    "Fraud detection: They help identify suspicious transactions by analyzing patterns in historical data.\n",
    "\n",
    "3. Marketing and Customer Analytics\n",
    "Customer segmentation: Helps in grouping customers based on purchasing behavior or demographics.\n",
    "\n",
    "Churn prediction: Predicts which customers are likely to leave a service.\n",
    "\n",
    "Targeted advertising: Identifies the best audience for marketing campaigns.\n",
    "\n",
    "4. Retail\n",
    "Inventory management: Predicts demand for products to optimize stock levels.\n",
    "\n",
    "Recommendation systems: Suggests products based on past buying behavior using classification.\n",
    "\n",
    "5. Manufacturing\n",
    "Quality control: Identifies defects or production issues based on sensor data.\n",
    "\n",
    "Predictive maintenance: Predicts when equipment is likely to fail based on historical performance data.\n",
    "\n",
    "6. Education\n",
    "Student performance prediction: Helps identify students at risk of failing or dropping out.\n",
    "\n",
    "Curriculum personalization: Recommends learning paths based on student performance.\n",
    "\n",
    "7. Law and Public Policy\n",
    "Recidivism prediction: Estimates the likelihood of a criminal reoffending.\n",
    "\n",
    "Policy impact analysis: Assesses the outcomes of public policies based on historical data.\n",
    "\n",
    "8. Agriculture\n",
    "Crop disease prediction: Helps farmers identify and prevent crop diseases early.\n",
    "\n",
    "Yield prediction: Estimates agricultural yield based on environmental conditions.\n",
    "\n"
   ]
  },
  {
   "cell_type": "code",
   "execution_count": null,
   "id": "388070a6-2671-4425-8099-82578ac2e786",
   "metadata": {},
   "outputs": [],
   "source": [
    "** Practical Theory**"
   ]
  },
  {
   "cell_type": "markdown",
   "id": "fcbc127b-6666-424f-9aae-46a5d02e3cd7",
   "metadata": {},
   "source": [
    "###16.Write a Python program to train a Decision Tree Classifier on the Iris dataset and print the model accuracy?"
   ]
  },
  {
   "cell_type": "code",
   "execution_count": null,
   "id": "0db023f6-fff9-4c67-91ec-0592d33366f1",
   "metadata": {},
   "outputs": [],
   "source": [
    "from sklearn.datasets import load_iris\n",
    "from sklearn.model_selection import train_test_split\n",
    "from sklearn.tree import DecisionTreeClassifier\n",
    "from sklearn.metrics import accuracy_score\n",
    "\n",
    "# Load the Iris dataset\n",
    "iris = load_iris()\n",
    "X = iris.data\n",
    "y = iris.target\n",
    "\n",
    "# Split the dataset into training and testing sets (80% train, 20% test)\n",
    "X_train, X_test, y_train, y_test = train_test_split(X, y, test_size=0.2, random_state=42)\n",
    "\n",
    "# Create and train the Decision Tree Classifier\n",
    "clf = DecisionTreeClassifier(random_state=42)\n",
    "clf.fit(X_train, y_train)\n",
    "\n",
    "# Predict the labels for the test set\n",
    "y_pred = clf.predict(X_test)\n",
    "\n",
    "# Calculate and print the accuracy\n",
    "accuracy = accuracy_score(y_test, y_pred)\n",
    "print(f\"Model Accuracy: {accuracy * 100:.2f}%\")"
   ]
  },
  {
   "cell_type": "markdown",
   "id": "ed2ba2a5-180f-4d71-bb79-473753cc0137",
   "metadata": {},
   "source": [
    "17. Write a Python program to train a Decision Tree Classifier using Gini Impurity as the criterion and print the feature importances?"
   ]
  },
  {
   "cell_type": "code",
   "execution_count": null,
   "id": "fdf55f56-abcf-4f3b-8c35-a56b334c10cc",
   "metadata": {},
   "outputs": [],
   "source": [
    "from sklearn.datasets import load_iris\n",
    "from sklearn.tree import DecisionTreeClassifier\n",
    "import pandas as pd\n",
    "\n",
    "# Load the Iris dataset\n",
    "iris = load_iris()\n",
    "X = iris.data\n",
    "y = iris.target\n",
    "feature_names = iris.feature_names\n",
    "\n",
    "# Create a Decision Tree Classifier using Gini Impurity\n",
    "clf = DecisionTreeClassifier(criterion='gini', random_state=42)\n",
    "clf.fit(X, y)\n",
    "\n",
    "# Get and display feature importances\n",
    "importances = clf.feature_importances_\n",
    "importance_df = pd.DataFrame({\n",
    "    'Feature': feature_names,\n",
    "    'Importance': importances\n",
    "})\n",
    "\n",
    "# Sort by importance and print\n",
    "importance_df = importance_df.sort_values(by='Importance', ascending=False)\n",
    "print(\"Feature Importances:\")\n",
    "print(importance_df)\n",
    "Output Example:\n",
    "java\n",
    "Copy\n",
    "Edit\n",
    "Feature Importances:\n",
    "             Feature  Importance\n",
    "2  petal length (cm)    0.558\n",
    "3   petal width (cm)    0.401\n",
    "0  sepal length (cm)    0.028\n",
    "1   sepal width (cm)    0.013"
   ]
  },
  {
   "cell_type": "markdown",
   "id": "43cdf2a9-624c-467c-9820-ce3a304662f8",
   "metadata": {},
   "source": [
    "###18.Write a Python program to train a Decision Tree Classifier using Entropy as the splitting criterion and print the model accuracy?\n"
   ]
  },
  {
   "cell_type": "code",
   "execution_count": null,
   "id": "0dd8c726-1b01-4591-8541-35c0032e4769",
   "metadata": {},
   "outputs": [],
   "source": [
    "from sklearn.datasets import load_iris\n",
    "from sklearn.model_selection import train_test_split\n",
    "from sklearn.tree import DecisionTreeClassifier\n",
    "from sklearn.metrics import accuracy_score\n",
    "\n",
    "# Load dataset\n",
    "iris = load_iris()\n",
    "X = iris.data\n",
    "y = iris.target\n",
    "\n",
    "# Split dataset into training and testing sets\n",
    "X_train, X_test, y_train, y_test = train_test_split(X, y, test_size=0.3, random_state=42)\n",
    "\n",
    "# Create Decision Tree Classifier with entropy criterion\n",
    "clf = DecisionTreeClassifier(criterion='entropy', random_state=42)\n",
    "\n",
    "# Train the model\n",
    "clf.fit(X_train, y_train)\n",
    "\n",
    "# Predict on test data\n",
    "y_pred = clf.predict(X_test)\n",
    "\n",
    "# Calculate accuracy\n",
    "accuracy = accuracy_score(y_test, y_pred)\n",
    "\n",
    "print(f\"Model accuracy: {accuracy:.2f}\")"
   ]
  },
  {
   "cell_type": "markdown",
   "id": "9160f52d-c84c-4c5f-b6ae-a3400243766c",
   "metadata": {},
   "source": [
    "###19.Write a Python program to train a Decision Tree Regressor on a housing dataset and evaluate using Mean Squared Error (MSE)?\n"
   ]
  },
  {
   "cell_type": "code",
   "execution_count": 2,
   "id": "efde7883-0b65-48e4-8fb4-69db17be1e01",
   "metadata": {},
   "outputs": [
    {
     "name": "stdout",
     "output_type": "stream",
     "text": [
      "Mean Squared Error (MSE): 0.4952\n"
     ]
    }
   ],
   "source": [
    "from sklearn.datasets import fetch_california_housing\n",
    "from sklearn.model_selection import train_test_split\n",
    "from sklearn.tree import DecisionTreeRegressor\n",
    "from sklearn.metrics import mean_squared_error\n",
    "\n",
    "# Load the California housing dataset\n",
    "data = fetch_california_housing()\n",
    "X = data.data      # features\n",
    "y = data.target    # target values (house prices)\n",
    "\n",
    "# Split dataset into training and testing sets (80% train, 20% test)\n",
    "X_train, X_test, y_train, y_test = train_test_split(X, y, test_size=0.2, random_state=42)\n",
    "\n",
    "# Initialize the Decision Tree Regressor\n",
    "model = DecisionTreeRegressor(random_state=42)\n",
    "\n",
    "# Train the model\n",
    "model.fit(X_train, y_train)\n",
    "\n",
    "# Predict on the test set\n",
    "y_pred = model.predict(X_test)\n",
    "\n",
    "# Calculate Mean Squared Error (MSE)\n",
    "mse = mean_squared_error(y_test, y_pred)\n",
    "print(f\"Mean Squared Error (MSE): {mse:.4f}\")"
   ]
  },
  {
   "cell_type": "code",
   "execution_count": null,
   "id": "ec5c2c18-1f9c-4e44-8d8e-91e691fe90c4",
   "metadata": {},
   "outputs": [],
   "source": [
    "pip install graphviz"
   ]
  },
  {
   "cell_type": "markdown",
   "id": "0cac484c-d674-46e6-9d14-07d7912c3e5c",
   "metadata": {},
   "source": [
    "###20.Write a Python program to train a Decision Tree Classifier and visualize the tree using graphviz?"
   ]
  },
  {
   "cell_type": "code",
   "execution_count": null,
   "id": "fdfb1e44-795e-44cd-b75e-8fb735395acb",
   "metadata": {},
   "outputs": [],
   "source": [
    "from sklearn.datasets import load_iris\n",
    "from sklearn.tree import DecisionTreeClassifier, export_graphviz\n",
    "import graphviz\n",
    "\n",
    "# Load Iris dataset\n",
    "iris = load_iris()\n",
    "X, y = iris.data, iris.target\n",
    "\n",
    "# Train Decision Tree Classifier\n",
    "clf = DecisionTreeClassifier(max_depth=3, random_state=42)\n",
    "clf.fit(X, y)\n",
    "\n",
    "# Export the tree in DOT format\n",
    "dot_data = export_graphviz(\n",
    "    clf, out_file=None,\n",
    "    feature_names=iris.feature_names,\n",
    "    class_names=iris.target_names,\n",
    "    filled=True, rounded=True,\n",
    "    special_characters=True\n",
    ")\n",
    "\n",
    "# Visualize the tree using graphviz\n",
    "graph = graphviz.Source(dot_data)\n",
    "graph.render(\"iris_decision_tree\")  # Saves as iris_decision_tree.pdf\n",
    "graph.view()  # Opens the PDF file"
   ]
  },
  {
   "cell_type": "markdown",
   "id": "5e065481-554f-4f1d-9391-364adb69e5ea",
   "metadata": {},
   "source": [
    "###21.Write a Python program to train a Decision Tree Classifier with a maximum depth of 3 and compare its accuracy with a fully grown tree?\n"
   ]
  },
  {
   "cell_type": "code",
   "execution_count": 3,
   "id": "354a97c2-d862-4583-9f13-ebf1b39cd0ae",
   "metadata": {},
   "outputs": [
    {
     "name": "stdout",
     "output_type": "stream",
     "text": [
      "Accuracy with max_depth=3: 1.0000\n",
      "Accuracy with fully grown tree: 1.0000\n"
     ]
    }
   ],
   "source": [
    "from sklearn.datasets import load_iris\n",
    "from sklearn.model_selection import train_test_split\n",
    "from sklearn.tree import DecisionTreeClassifier\n",
    "from sklearn.metrics import accuracy_score\n",
    "\n",
    "# Load dataset\n",
    "iris = load_iris()\n",
    "X, y = iris.data, iris.target\n",
    "\n",
    "# Split into train/test sets\n",
    "X_train, X_test, y_train, y_test = train_test_split(X, y, test_size=0.3, random_state=42)\n",
    "\n",
    "# Train decision tree with max_depth=3\n",
    "tree_depth3 = DecisionTreeClassifier(max_depth=3, random_state=42)\n",
    "tree_depth3.fit(X_train, y_train)\n",
    "\n",
    "# Train fully grown tree (no max_depth)\n",
    "tree_full = DecisionTreeClassifier(random_state=42)\n",
    "tree_full.fit(X_train, y_train)\n",
    "\n",
    "# Predictions\n",
    "y_pred_depth3 = tree_depth3.predict(X_test)\n",
    "y_pred_full = tree_full.predict(X_test)\n",
    "\n",
    "# Calculate accuracy\n",
    "acc_depth3 = accuracy_score(y_test, y_pred_depth3)\n",
    "acc_full = accuracy_score(y_test, y_pred_full)\n",
    "\n",
    "print(f\"Accuracy with max_depth=3: {acc_depth3:.4f}\")\n",
    "print(f\"Accuracy with fully grown tree: {acc_full:.4f}\")"
   ]
  },
  {
   "cell_type": "markdown",
   "id": "16b733dd-7407-4f1d-b191-b0a807b22ef2",
   "metadata": {},
   "source": [
    "22.Write a Python program to train a Decision Tree Classifier using min_samples_split=5 and compare its accuracy with a default tree?"
   ]
  },
  {
   "cell_type": "code",
   "execution_count": null,
   "id": "69cc9d4f-50ae-4297-9351-3c0dc451b973",
   "metadata": {},
   "outputs": [],
   "source": [
    "from sklearn.datasets import load_iris\n",
    "from sklearn.model_selection import train_test_split\n",
    "from sklearn.tree import DecisionTreeClassifier\n",
    "from sklearn.metrics import accuracy_score\n",
    "\n",
    "# Load dataset\n",
    "iris = load_iris()\n",
    "X, y = iris.data, iris.target\n",
    "\n",
    "# Split data into train and test sets\n",
    "X_train, X_test, y_train, y_test = train_test_split(X, y, test_size=0.3, random_state=42)\n",
    "\n",
    "# Train Decision Tree with default parameters\n",
    "clf_default = DecisionTreeClassifier(random_state=42)\n",
    "clf_default.fit(X_train, y_train)\n",
    "y_pred_default = clf_default.predict(X_test)\n",
    "acc_default = accuracy_score(y_test, y_pred_default)\n",
    "\n",
    "# Train Decision Tree with min_samples_split=5\n",
    "clf_custom = DecisionTreeClassifier(min_samples_split=5, random_state=42)\n",
    "clf_custom.fit(X_train, y_train)\n",
    "y_pred_custom = clf_custom.predict(X_test)\n",
    "acc_custom = accuracy_score(y_test, y_pred_custom)\n",
    "\n",
    "print(f\"Accuracy with default Decision Tree: {acc_default:.4f}\")\n",
    "print(f\"Accuracy with min_samples_split=5: {acc_custom:.4f}\")"
   ]
  },
  {
   "cell_type": "code",
   "execution_count": null,
   "id": "20336509-c6a7-4c09-9f50-438bb7e24a84",
   "metadata": {},
   "outputs": [],
   "source": [
    "###23.Write a Python program to apply feature scaling before training a Decision Tree Classifier and compare its accuracy with unscaled data?\n"
   ]
  },
  {
   "cell_type": "code",
   "execution_count": null,
   "id": "bdc6c25f-acd2-4bdc-9b4c-e820b6601005",
   "metadata": {},
   "outputs": [],
   "source": [
    "from sklearn.datasets import load_iris\n",
    "from sklearn.model_selection import train_test_split\n",
    "from sklearn.tree import DecisionTreeClassifier\n",
    "from sklearn.preprocessing import StandardScaler\n",
    "from sklearn.metrics import accuracy_score\n",
    "\n",
    "# Load dataset\n",
    "data = load_iris()\n",
    "X = data.data\n",
    "y = data.target\n",
    "\n",
    "# Split data into train and test sets\n",
    "X_train, X_test, y_train, y_test = train_test_split(X, y, test_size=0.3, random_state=42)\n",
    "\n",
    "# 1. Train Decision Tree on unscaled data\n",
    "clf_unscaled = DecisionTreeClassifier(random_state=42)\n",
    "clf_unscaled.fit(X_train, y_train)\n",
    "y_pred_unscaled = clf_unscaled.predict(X_test)\n",
    "acc_unscaled = accuracy_score(y_test, y_pred_unscaled)\n",
    "\n",
    "# 2. Apply feature scaling\n",
    "scaler = StandardScaler()\n",
    "X_train_scaled = scaler.fit_transform(X_train)\n",
    "X_test_scaled = scaler.transform(X_test)\n",
    "\n",
    "# Train Decision Tree on scaled data\n",
    "clf_scaled = DecisionTreeClassifier(random_state=42)\n",
    "clf_scaled.fit(X_train_scaled, y_train)\n",
    "y_pred_scaled = clf_scaled.predict(X_test_scaled)\n",
    "acc_scaled = accuracy_score(y_test, y_pred_scaled)\n",
    "\n",
    "print(f\"Accuracy without scaling: {acc_unscaled:.4f}\")\n",
    "print(f\"Accuracy with scaling:    {acc_scaled:.4f}\")"
   ]
  },
  {
   "cell_type": "markdown",
   "id": "aff27484-0701-4787-b0d9-94428e9b6522",
   "metadata": {},
   "source": [
    "24.Write a Python program to train a Decision Tree Classifier using One-vs-Rest (OvR) strategy for multiclass classification?\n"
   ]
  },
  {
   "cell_type": "code",
   "execution_count": null,
   "id": "798e525c-46e3-4074-b013-d4a47f77ce54",
   "metadata": {},
   "outputs": [],
   "source": [
    "from sklearn.datasets import load_iris\n",
    "from sklearn.model_selection import train_test_split\n",
    "from sklearn.tree import DecisionTreeClassifier\n",
    "from sklearn.multiclass import OneVsRestClassifier\n",
    "from sklearn.metrics import accuracy_score\n",
    "\n",
    "# Load sample data (Iris dataset)\n",
    "data = load_iris()\n",
    "X = data.data\n",
    "y = data.target\n",
    "\n",
    "# Split data into train and test sets\n",
    "X_train, X_test, y_train, y_test = train_test_split(X, y, test_size=0.3, random_state=42)\n",
    "\n",
    "# Initialize a Decision Tree classifier\n",
    "dtree = DecisionTreeClassifier(random_state=42)\n",
    "\n",
    "# Wrap the classifier in a One-vs-Rest multiclass strategy\n",
    "ovr_classifier = OneVsRestClassifier(dtree)\n",
    "\n",
    "# Train the OvR classifier\n",
    "ovr_classifier.fit(X_train, y_train)\n",
    "\n",
    "# Predict on the test set\n",
    "y_pred = ovr_classifier.predict(X_test)\n",
    "\n",
    "# Calculate accuracy\n",
    "accuracy = accuracy_score(y_test, y_pred)\n",
    "print(f\"Accuracy: {accuracy:.4f}\")"
   ]
  },
  {
   "cell_type": "markdown",
   "id": "e2336192-eee8-4708-81ee-5734c5e85b72",
   "metadata": {},
   "source": [
    "###25.Write a Python program to train a Decision Tree Classifier and display the feature importance scores?"
   ]
  },
  {
   "cell_type": "code",
   "execution_count": null,
   "id": "2a17811b-60f4-4424-8c01-886a058fadbe",
   "metadata": {},
   "outputs": [],
   "source": [
    "from sklearn.datasets import load_iris\n",
    "from sklearn.tree import DecisionTreeClassifier\n",
    "import pandas as pd\n",
    "\n",
    "# Load the Iris dataset\n",
    "iris = load_iris()\n",
    "X = iris.data\n",
    "y = iris.target\n",
    "feature_names = iris.feature_names\n",
    "\n",
    "# Train Decision Tree Classifier\n",
    "clf = DecisionTreeClassifier(random_state=42)\n",
    "clf.fit(X, y)\n",
    "\n",
    "# Get feature importance scores\n",
    "importance_scores = clf.feature_importances_\n",
    "\n",
    "# Display feature importance with feature names\n",
    "feature_importance = pd.Series(importance_scores, index=feature_names)\n",
    "print(\"Feature Importance Scores:\")\n",
    "print(feature_importance.sort_values(ascending=False))"
   ]
  },
  {
   "cell_type": "markdown",
   "id": "1fb7188b-70ff-48de-8faa-a44d5372752b",
   "metadata": {},
   "source": [
    "###26.Write a Python program to train a Decision Tree Regressor with max_depth=5 and compare its performance with an unrestricted tree?\n"
   ]
  },
  {
   "cell_type": "code",
   "execution_count": null,
   "id": "f5736870-f2a4-485a-a234-b172a5dcad1f",
   "metadata": {},
   "outputs": [],
   "source": [
    "from sklearn.datasets import load_boston\n",
    "from sklearn.model_selection import train_test_split\n",
    "from sklearn.tree import DecisionTreeRegressor\n",
    "from sklearn.metrics import r2_score\n",
    "\n",
    "# Load a regression dataset\n",
    "data = load_boston()\n",
    "X, y = data.data, data.target\n",
    "\n",
    "# Split into train and test sets\n",
    "X_train, X_test, y_train, y_test = train_test_split(X, y, test_size=0.3, random_state=42)\n",
    "\n",
    "# Train Decision Tree Regressor with max_depth=5\n",
    "tree_limited = DecisionTreeRegressor(max_depth=5, random_state=42)\n",
    "tree_limited.fit(X_train, y_train)\n",
    "\n",
    "# Train Decision Tree Regressor without depth restriction\n",
    "tree_unrestricted = DecisionTreeRegressor(random_state=42)\n",
    "tree_unrestricted.fit(X_train, y_train)\n",
    "\n",
    "# Predict on test set\n",
    "y_pred_limited = tree_limited.predict(X_test)\n",
    "y_pred_unrestricted = tree_unrestricted.predict(X_test)\n",
    "\n",
    "# Evaluate performance\n",
    "r2_limited = r2_score(y_test, y_pred_limited)\n",
    "r2_unrestricted = r2_score(y_test, y_pred_unrestricted)\n",
    "\n",
    "print(f\"R² score with max_depth=5: {r2_limited:.3f}\")\n",
    "print(f\"R² score with unrestricted tree: {r2_unrestricted:.3f}\")"
   ]
  },
  {
   "cell_type": "markdown",
   "id": "8b487732-5732-4b93-bb14-b54f86e3f0ea",
   "metadata": {},
   "source": [
    "###27.Write a Python program to train a Decision Tree Classifier, apply Cost Complexity Pruning (CCP), and visualize its effect on accuracy?\n"
   ]
  },
  {
   "cell_type": "code",
   "execution_count": 4,
   "id": "ba7307ee-6de9-4547-9fdf-2aaa96dd0293",
   "metadata": {},
   "outputs": [
    {
     "data": {
      "image/png": "[encoded data removed]",
      "text/plain": [
       "<Figure size 1000x600 with 1 Axes>"
      ]
     },
     "metadata": {},
     "output_type": "display_data"
    }
   ],
   "source": [
    "import numpy as np\n",
    "import matplotlib.pyplot as plt\n",
    "from sklearn.datasets import load_iris\n",
    "from sklearn.tree import DecisionTreeClassifier\n",
    "from sklearn.model_selection import train_test_split\n",
    "from sklearn.metrics import accuracy_score\n",
    "\n",
    "# Load dataset\n",
    "iris = load_iris()\n",
    "X, y = iris.data, iris.target\n",
    "\n",
    "# Split dataset into train and test sets\n",
    "X_train, X_test, y_train, y_test = train_test_split(\n",
    "    X, y, test_size=0.3, random_state=42, stratify=y\n",
    ")\n",
    "\n",
    "# Train initial Decision Tree Classifier (without pruning)\n",
    "clf = DecisionTreeClassifier(random_state=42)\n",
    "clf.fit(X_train, y_train)\n",
    "\n",
    "# Get cost complexity pruning path\n",
    "path = clf.cost_complexity_pruning_path(X_train, y_train)\n",
    "ccp_alphas, impurities = path.ccp_alphas, path.impurities\n",
    "\n",
    "# Remove the maximum alpha value (pruning to empty tree) for clarity\n",
    "ccp_alphas = ccp_alphas[:-1]\n",
    "\n",
    "# Train trees with different alpha values\n",
    "clfs = []\n",
    "for ccp_alpha in ccp_alphas:\n",
    "    clf = DecisionTreeClassifier(random_state=42, ccp_alpha=ccp_alpha)\n",
    "    clf.fit(X_train, y_train)\n",
    "    clfs.append(clf)\n",
    "\n",
    "# Calculate accuracy for each alpha on train and test sets\n",
    "train_scores = [accuracy_score(y_train, clf.predict(X_train)) for clf in clfs]\n",
    "test_scores = [accuracy_score(y_test, clf.predict(X_test)) for clf in clfs]\n",
    "\n",
    "# Plot accuracy vs alpha\n",
    "plt.figure(figsize=(10, 6))\n",
    "plt.plot(ccp_alphas, train_scores, marker='o', label='Train Accuracy', drawstyle=\"steps-post\")\n",
    "plt.plot(ccp_alphas, test_scores, marker='o', label='Test Accuracy', drawstyle=\"steps-post\")\n",
    "plt.xlabel(\"ccp_alpha\")\n",
    "plt.ylabel(\"Accuracy\")\n",
    "plt.title(\"Effect of Cost Complexity Pruning on Accuracy\")\n",
    "plt.legend()\n",
    "plt.grid(True)\n",
    "plt.show()"
   ]
  },
  {
   "cell_type": "markdown",
   "id": "d6f37eb3-b013-4a3a-b258-c67635fdf753",
   "metadata": {},
   "source": [
    "###28.Write a Python program to train a Decision Tree Classifier and evaluate its performance using Precision,Recall, and F1-Score?\n"
   ]
  },
  {
   "cell_type": "code",
   "execution_count": 5,
   "id": "94834cac-091d-4209-8475-f2cd4d9f71ff",
   "metadata": {},
   "outputs": [
    {
     "name": "stdout",
     "output_type": "stream",
     "text": [
      "Precision: 1.00\n",
      "Recall:    1.00\n",
      "F1-Score:  1.00\n"
     ]
    }
   ],
   "source": [
    "from sklearn.datasets import load_iris\n",
    "from sklearn.model_selection import train_test_split\n",
    "from sklearn.tree import DecisionTreeClassifier\n",
    "from sklearn.metrics import precision_score, recall_score, f1_score\n",
    "\n",
    "# Load dataset\n",
    "data = load_iris()\n",
    "X = data.data\n",
    "y = data.target\n",
    "\n",
    "# For simplicity, let's convert this to a binary classification problem\n",
    "# We'll classify if the class is 0 (setosa) or not (1 or 2)\n",
    "y_binary = (y == 0).astype(int)\n",
    "\n",
    "# Split into training and testing sets\n",
    "X_train, X_test, y_train, y_test = train_test_split(X, y_binary, test_size=0.3, random_state=42)\n",
    "\n",
    "# Initialize and train the Decision Tree Classifier\n",
    "clf = DecisionTreeClassifier(random_state=42)\n",
    "clf.fit(X_train, y_train)\n",
    "\n",
    "# Predict on the test set\n",
    "y_pred = clf.predict(X_test)\n",
    "\n",
    "# Calculate Precision, Recall, and F1-Score\n",
    "precision = precision_score(y_test, y_pred)\n",
    "recall = recall_score(y_test, y_pred)\n",
    "f1 = f1_score(y_test, y_pred)\n",
    "\n",
    "print(f\"Precision: {precision:.2f}\")\n",
    "print(f\"Recall:    {recall:.2f}\")\n",
    "print(f\"F1-Score:  {f1:.2f}\")"
   ]
  },
  {
   "cell_type": "markdown",
   "id": "8b900068-c41a-469e-8604-8e0c1359551c",
   "metadata": {},
   "source": [
    "###29.Write a Python program to train a Decision Tree Classifier and visualize the confusion matrix using seaborn?"
   ]
  },
  {
   "cell_type": "code",
   "execution_count": 6,
   "id": "617d968b-c8d6-4874-878d-7e1497e89255",
   "metadata": {},
   "outputs": [
    {
     "data": {
      "image/png": "[encoded data removed]",
      "text/plain": [
       "<Figure size 800x600 with 2 Axes>"
      ]
     },
     "metadata": {},
     "output_type": "display_data"
    }
   ],
   "source": [
    "import seaborn as sns\n",
    "import matplotlib.pyplot as plt\n",
    "from sklearn.datasets import load_iris\n",
    "from sklearn.model_selection import train_test_split\n",
    "from sklearn.tree import DecisionTreeClassifier\n",
    "from sklearn.metrics import confusion_matrix\n",
    "\n",
    "# Load dataset\n",
    "data = load_iris()\n",
    "X = data.data\n",
    "y = data.target\n",
    "\n",
    "# Split data into train and test sets\n",
    "X_train, X_test, y_train, y_test = train_test_split(X, y, test_size=0.3, random_state=42)\n",
    "\n",
    "# Train Decision Tree Classifier\n",
    "clf = DecisionTreeClassifier(random_state=42)\n",
    "clf.fit(X_train, y_train)\n",
    "\n",
    "# Predict on test data\n",
    "y_pred = clf.predict(X_test)\n",
    "\n",
    "# Compute confusion matrix\n",
    "cm = confusion_matrix(y_test, y_pred)\n",
    "\n",
    "# Plot confusion matrix using seaborn\n",
    "plt.figure(figsize=(8,6))\n",
    "sns.heatmap(cm, annot=True, fmt='d', cmap='Blues',\n",
    "            xticklabels=data.target_names,\n",
    "            yticklabels=data.target_names)\n",
    "plt.xlabel('Predicted')\n",
    "plt.ylabel('Actual')\n",
    "plt.title('Confusion Matrix for Decision Tree Classifier')\n",
    "plt.show()"
   ]
  },
  {
   "cell_type": "markdown",
   "id": "ac03a85d-3c7b-459d-a236-d2824a1ad403",
   "metadata": {},
   "source": [
    "###30.Write a Python program to train a Decision Tree Classifier and use GridSearchCV to find the optimal values for max_depth and min_samples_split?\n"
   ]
  },
  {
   "cell_type": "code",
   "execution_count": 7,
   "id": "218695de-2c99-4b3c-9153-a6f6582d9b77",
   "metadata": {},
   "outputs": [
    {
     "name": "stdout",
     "output_type": "stream",
     "text": [
      "Fitting 5 folds for each of 18 candidates, totalling 90 fits\n",
      "Best parameters: {'max_depth': 4, 'min_samples_split': 2}\n",
      "Test set accuracy: 1.0000\n"
     ]
    }
   ],
   "source": [
    "from sklearn.datasets import load_iris\n",
    "from sklearn.tree import DecisionTreeClassifier\n",
    "from sklearn.model_selection import GridSearchCV, train_test_split\n",
    "from sklearn.metrics import accuracy_score\n",
    "\n",
    "# Load dataset\n",
    "iris = load_iris()\n",
    "X, y = iris.data, iris.target\n",
    "\n",
    "# Split into train and test sets\n",
    "X_train, X_test, y_train, y_test = train_test_split(X, y, test_size=0.2, random_state=42)\n",
    "\n",
    "# Initialize Decision Tree Classifier\n",
    "dt = DecisionTreeClassifier(random_state=42)\n",
    "\n",
    "# Define parameter grid to search\n",
    "param_grid = {\n",
    "    'max_depth': [2, 3, 4, 5, 6, None],\n",
    "    'min_samples_split': [2, 5, 10]\n",
    "}\n",
    "\n",
    "# Initialize GridSearchCV\n",
    "grid_search = GridSearchCV(estimator=dt, param_grid=param_grid, cv=5, n_jobs=-1, verbose=1)\n",
    "\n",
    "# Fit GridSearchCV\n",
    "grid_search.fit(X_train, y_train)\n",
    "\n",
    "# Best parameters found\n",
    "print(\"Best parameters:\", grid_search.best_params_)\n",
    "\n",
    "# Use the best estimator to predict test set\n",
    "best_dt = grid_search.best_estimator_\n",
    "y_pred = best_dt.predict(X_test)\n",
    "\n",
    "# Evaluate accuracy\n",
    "accuracy = accuracy_score(y_test, y_pred)\n",
    "print(f\"Test set accuracy: {accuracy:.4f}\")"
   ]
  },
  {
   "cell_type": "code",
   "execution_count": null,
   "id": "b3f6358f-4ba7-4c0b-9656-463a51d8bdb1",
   "metadata": {},
   "outputs": [],
   "source": []
  }
 ],
 "metadata": {
  "kernelspec": {
   "display_name": "Python 3 (ipykernel)",
   "language": "python",
   "name": "python3"
  },
  "language_info": {
   "codemirror_mode": {
    "name": "ipython",
    "version": 3
   },
   "file_extension": ".py",
   "mimetype": "text/x-python",
   "name": "python",
   "nbconvert_exporter": "python",
   "pygments_lexer": "ipython3",
   "version": "3.12.7"
  }
 },
 "nbformat": 4,
 "nbformat_minor": 5
}
